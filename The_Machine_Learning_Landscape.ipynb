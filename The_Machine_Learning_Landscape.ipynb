{
  "nbformat": 4,
  "nbformat_minor": 0,
  "metadata": {
    "colab": {
      "name": "The Machine Learning Landscape.ipynb",
      "provenance": [],
      "collapsed_sections": [],
      "authorship_tag": "ABX9TyPDVDjgpbrBno92kEpaWGNI",
      "include_colab_link": true
    },
    "kernelspec": {
      "name": "python3",
      "display_name": "Python 3"
    }
  },
  "cells": [
    {
      "cell_type": "markdown",
      "metadata": {
        "id": "view-in-github",
        "colab_type": "text"
      },
      "source": [
        "<a href=\"https://colab.research.google.com/github/Arun-purakkatt/Hands-On-Machine-Learning-with-Scikit-Learn-and-TensorFlow/blob/master/The_Machine_Learning_Landscape.ipynb\" target=\"_parent\"><img src=\"https://colab.research.google.com/assets/colab-badge.svg\" alt=\"Open In Colab\"/></a>"
      ]
    },
    {
      "cell_type": "markdown",
      "metadata": {
        "id": "bstBXpFtWlJ-",
        "colab_type": "text"
      },
      "source": [
        "**Chapter 1. The Machine Learning Landscape**\n",
        "\n",
        "\n",
        "The first ML application that really became maintream and improved the lives of 100s of millions of people took over in the 1990s, The Spam Filter.\n",
        "We will take a look at the map and learn about the most notable regions of ML\n",
        "Supervised versus Unsupervised Learning\n",
        "Online versus batch learning\n",
        "Instance-based versus model-based learning"
      ]
    },
    {
      "cell_type": "markdown",
      "metadata": {
        "id": "6fTsmcUPWiS_",
        "colab_type": "text"
      },
      "source": [
        "**What is Machine Learning?**\n",
        "\n",
        "Machine Learning is the science (and art) of programming computers so that they can learn from data.\n",
        "\n",
        "Machine Learning is the field of study that gives computers the ability to learn without being explicitly programmed. — Arthur Samuel (1959)\n",
        "\n",
        "A computer program is said to learn from experience $E$ with respect to some task $T$ and some performance measure $P$, if its performance on $T$, as measured by $P$, improves with experience $E$. — Tom Mitchell (1997)."
      ]
    },
    {
      "cell_type": "markdown",
      "metadata": {
        "id": "hiQNrKAVaH0f",
        "colab_type": "text"
      },
      "source": [
        "**Why use Machine Learning?**\n",
        "\n",
        "1.Make rules\n",
        "2.Write Algorithm\n",
        "3.If Algorithm performs well $\\to$ deploy. If not, go to (1).\n",
        "\n",
        "If the problem is complex, you'll likely endup with a long list of rules that are hard to maintain to scale to other similar problems.\n",
        "A machine learning approach would be much shorter, easier to maintain, and in many cases, more accurate.\n",
        "Machine Learning can help humans learn.\n",
        "You can train an algorithm on a large dataset, then inspect the algorithm for feature importance to gain a better understanding of the relation between the data & the problem.\n",
        "This is called data mining."
      ]
    },
    {
      "cell_type": "markdown",
      "metadata": {
        "id": "ooo6A1xOc5-R",
        "colab_type": "text"
      },
      "source": [
        "**Examples of Applications**\n",
        "\n",
        "Image Classification: typically performed using convolutional neural networks\n",
        "\n",
        "Semantic segmentation: when we want to classify each pixel in an image, example is brain tumor detection (will give us shape and location)\n",
        "\n",
        "Natural Language Processing: & More specifically, text classification, which can be performed using RNNs, CNNs, or Transformers.\n",
        "\n",
        "NLP: Automatic Text Summarization\n",
        "\n",
        "Chatbot: Involves many NLP tasks such as Natural Language Understanding (NLU) and Question-Answering.\n",
        "\n",
        "Forecasting your company's revenue next year: a regression task that can be tackled using multiple algorithms such as\n",
        "Linear Regression\n",
        "Polynomial Regression\n",
        "SVM\n",
        "Random Forest\n",
        "Artificial Neural Networks\n",
        "If sequences of past performance indicators are involved, we can use RNNs, CNNs or Transformers.\n",
        "\n",
        "Making your app react to voice commands: This is speech recognition, can be tackled by recognizing the incoming audio signals using RNNs, CNNs or Transformers.\n",
        "\n",
        "Detecting credit card fraud: this is anomaly detection.\n",
        "\n",
        "Segmenting clients based on their purchases so you can design targeted more effective marketing campaigns, a Clustering problem\n",
        "\n",
        "Representing a complex, high-dimensional dataset in a diagram: this is data visualization, typically using dimensionality reduction algorithms such as PCA.\n",
        "\n",
        "Recommending a product based on the client's purchases history: this is a recommender system, where you can feed in the sequence of purchases to an artificial neural network to predict the next purchase.\n",
        "\n",
        "Building an intelligent bot for a game: this is usually solved using reinforcement learning\n",
        "\n",
        "\n",
        "\n"
      ]
    },
    {
      "cell_type": "markdown",
      "metadata": {
        "id": "e-AblTBreMgg",
        "colab_type": "text"
      },
      "source": [
        "**Types of Machine Learning Systems**\n",
        "\n",
        "\n",
        "\n",
        " Machine learning algorithms can be classified according to the amount of supervision they get during training They are 4 major categories\n",
        "\n",
        "\n",
        "**1.   Supervised Learning:**\n",
        "\n",
        "The training set you feed into the supervised learning algorithm contains the targets/labels/desired predictions.\n",
        "\n",
        "Most supervised learning tasks fall under two umbrellas: Classification/Regression\n",
        "\n",
        "Some regression-based models are used for classification as well, such as Logistic Regression which outputs a probability $\\in [0,1]$\n",
        "\n",
        "Here are some of the most important supervised learning algorithms\n",
        "\n",
        "\n",
        "\n",
        "\n",
        "*   K-nearest Neighbors\n",
        "*   Linear Regression\n",
        "*   Logistic Regression\n",
        "*   Decision Trees and Random Forests\n",
        "*   Artificial Neural Networks\n",
        "*   Naive Bayes\n",
        "\n",
        "\n",
        "**2.   Semi-supervised Learning**\n",
        "\n",
        "You have partially-labeled data\n",
        "The goal is to not classify the unlebeled ones but to use them around the labeled points as helpers to solve the task\n",
        "Most semi-supervised learning algorithms are a combination of unsupervised and supervised learning algorithms\n",
        "\n",
        "**3.   Reinforcement Learning**\n",
        "\n",
        "RL is a very different beast.\n",
        "An agent observes the environment, selects an action, gets a reward, and updates its policy.\n",
        "\n",
        "**4.   Unsupervised Learning**\n",
        "\n",
        "The data is unlabeled, the system is trying to learn without a teacher.\n",
        "Here are some unsupervised learning algorithms\n",
        "\n",
        "Clustering : \n",
        "K-means\n",
        "DBSCAN\n",
        "Hirerchical Cluster Analysis\n",
        "\n",
        "Anomaly Detection:\n",
        "one-class SVM\n",
        "Isolation Forest\n",
        "\n",
        "Visualization & Dimensionality Reduction: the goal is to compress/simplify the data without losing too much information (1 way to do it is to merge highly correlated features)\n",
        "\n",
        "Principal Component Analysis: PCA\n",
        "t-distributed stochastic Neighbor Embedding: T-SNE\n",
        "Autoencoders\n",
        "Kernel PCA\n",
        "Local Linear Embedding (LLE)\n",
        "\n",
        "Association rule learning: find interesting relations between attributes\n",
        "Apriori\n",
        "Eclat\n",
        "\n",
        "\n",
        "\n",
        "\n",
        "\n",
        "\n",
        "\n",
        "\n",
        "\n",
        "\n"
      ]
    },
    {
      "cell_type": "markdown",
      "metadata": {
        "id": "DmCgCvnx23XO",
        "colab_type": "text"
      },
      "source": [
        "**Batch & Online Learning**\n",
        "\n",
        "Another criterion to classify a machine learning algorithm is whether it learns from an incoming stream of data or not.\n",
        "\n",
        "**Batch Learning**\n",
        "\n",
        "In batch learning, the model is incapable of incrementally learning, It first learns from all of the available data offline, and then get deployed to produce predictions without feeding it any new data points.\n",
        "Another name of batch learning is Offline Learning.\n",
        "\n",
        "**Online Learning**\n",
        "\n",
        "In online learning, you train data incrementally by continuously feeding it data instances as they come.\n",
        "\n",
        "Either individually or in small groups of instances called mini-batches.\n",
        "Each learning step is fast and cheap, so the system can learn as data comes, on the fly.\n",
        "\n",
        "Online learning is great for system that receive data in a continuous flow.\n",
        "Think about Online learning as incremental learning.\n",
        "\n",
        "One important aspect of online learning is how fast the learning algorithm should adapt to new data points \n",
        "\n",
        "With a big learning rate — the model tends to forget past data and lean heavily towards new data points.\n",
        "\n",
        "With a small learning rate — the model tends to slightly adapt to new data points but keeps its knowledge on old data points mostly intact.\n",
        "\n",
        "A big challenge with online learning algorithms is that they can be damaged with bad incoming data points and clients will notice that on the fly\n",
        "To mitigate this, you can:Closely monitor the system through performance metrics, turn off online learning or revert back to a previous model state.\n",
        "Clean the data before feeding it to the model by scanning it for anomaly/outlier detection"
      ]
    },
    {
      "cell_type": "markdown",
      "metadata": {
        "id": "f-go0OaQ541C",
        "colab_type": "text"
      },
      "source": [
        "**Instance-based versus Model-based Learning**\n",
        "\n",
        "One other way to categorize machine learning algorithms is how they generalize\n",
        "There are two approaches to generalization: instance-based approaches and model-based approaches.\n",
        "\n",
        "**Instance-based Learning**\n",
        "\n",
        "Similarity-based comparison, a new data point would be classified based on its similarity to the target group in the training set, this would require a measure of similarity.\n",
        "\n",
        "**Model-based Learning**\n",
        "\n",
        "Another way to make predictions is to build a model for each class of data points and then use the model to classify a new data point (from the validation/test/production environment).\n",
        "\n",
        "What follows is an example of model-based learning using linear regression:"
      ]
    },
    {
      "cell_type": "code",
      "metadata": {
        "id": "v9u-TeeZZ8xb",
        "colab_type": "code",
        "colab": {}
      },
      "source": [
        "import pandas as pd\n",
        "import matplotlib.pyplot as plt\n",
        "import seaborn as sns\n",
        "import sklearn.linear_model"
      ],
      "execution_count": 0,
      "outputs": []
    },
    {
      "cell_type": "code",
      "metadata": {
        "id": "Gc9JKpP48Dqz",
        "colab_type": "code",
        "colab": {}
      },
      "source": [
        "# URLs for data\n",
        "gdp_data_url = 'https://educational-data-samples.s3.amazonaws.com/books/hands-on-ML/WEO_Data.csv'\n",
        "oecd_data_url = 'https://educational-data-samples.s3.amazonaws.com/books/hands-on-ML/OECD.csv'"
      ],
      "execution_count": 0,
      "outputs": []
    },
    {
      "cell_type": "code",
      "metadata": {
        "id": "rWyAqNGk8Ht6",
        "colab_type": "code",
        "outputId": "797c864f-b48f-442a-ba96-2cba5f33b262",
        "colab": {
          "base_uri": "https://localhost:8080/",
          "height": 204
        }
      },
      "source": [
        "# get data & import it as a dataframe\n",
        "gdp = pd.read_csv(gdp_data_url, sep='\\t', encoding='latin1', thousands=',', na_values='n/a').dropna()\n",
        "gdp.head()"
      ],
      "execution_count": 0,
      "outputs": [
        {
          "output_type": "execute_result",
          "data": {
            "text/html": [
              "<div>\n",
              "<style scoped>\n",
              "    .dataframe tbody tr th:only-of-type {\n",
              "        vertical-align: middle;\n",
              "    }\n",
              "\n",
              "    .dataframe tbody tr th {\n",
              "        vertical-align: top;\n",
              "    }\n",
              "\n",
              "    .dataframe thead th {\n",
              "        text-align: right;\n",
              "    }\n",
              "</style>\n",
              "<table border=\"1\" class=\"dataframe\">\n",
              "  <thead>\n",
              "    <tr style=\"text-align: right;\">\n",
              "      <th></th>\n",
              "      <th>Country</th>\n",
              "      <th>Subject Descriptor</th>\n",
              "      <th>Units</th>\n",
              "      <th>Scale</th>\n",
              "      <th>Country/Series-specific Notes</th>\n",
              "      <th>2015</th>\n",
              "      <th>Estimates Start After</th>\n",
              "    </tr>\n",
              "  </thead>\n",
              "  <tbody>\n",
              "    <tr>\n",
              "      <th>0</th>\n",
              "      <td>Afghanistan</td>\n",
              "      <td>Gross domestic product per capita, current prices</td>\n",
              "      <td>U.S. dollars</td>\n",
              "      <td>Units</td>\n",
              "      <td>See notes for:  Gross domestic product, curren...</td>\n",
              "      <td>599.994</td>\n",
              "      <td>2013.0</td>\n",
              "    </tr>\n",
              "    <tr>\n",
              "      <th>1</th>\n",
              "      <td>Albania</td>\n",
              "      <td>Gross domestic product per capita, current prices</td>\n",
              "      <td>U.S. dollars</td>\n",
              "      <td>Units</td>\n",
              "      <td>See notes for:  Gross domestic product, curren...</td>\n",
              "      <td>3995.383</td>\n",
              "      <td>2010.0</td>\n",
              "    </tr>\n",
              "    <tr>\n",
              "      <th>2</th>\n",
              "      <td>Algeria</td>\n",
              "      <td>Gross domestic product per capita, current prices</td>\n",
              "      <td>U.S. dollars</td>\n",
              "      <td>Units</td>\n",
              "      <td>See notes for:  Gross domestic product, curren...</td>\n",
              "      <td>4318.135</td>\n",
              "      <td>2014.0</td>\n",
              "    </tr>\n",
              "    <tr>\n",
              "      <th>3</th>\n",
              "      <td>Angola</td>\n",
              "      <td>Gross domestic product per capita, current prices</td>\n",
              "      <td>U.S. dollars</td>\n",
              "      <td>Units</td>\n",
              "      <td>See notes for:  Gross domestic product, curren...</td>\n",
              "      <td>4100.315</td>\n",
              "      <td>2014.0</td>\n",
              "    </tr>\n",
              "    <tr>\n",
              "      <th>4</th>\n",
              "      <td>Antigua and Barbuda</td>\n",
              "      <td>Gross domestic product per capita, current prices</td>\n",
              "      <td>U.S. dollars</td>\n",
              "      <td>Units</td>\n",
              "      <td>See notes for:  Gross domestic product, curren...</td>\n",
              "      <td>14414.302</td>\n",
              "      <td>2011.0</td>\n",
              "    </tr>\n",
              "  </tbody>\n",
              "</table>\n",
              "</div>"
            ],
            "text/plain": [
              "               Country  ... Estimates Start After\n",
              "0          Afghanistan  ...                2013.0\n",
              "1              Albania  ...                2010.0\n",
              "2              Algeria  ...                2014.0\n",
              "3               Angola  ...                2014.0\n",
              "4  Antigua and Barbuda  ...                2011.0\n",
              "\n",
              "[5 rows x 7 columns]"
            ]
          },
          "metadata": {
            "tags": []
          },
          "execution_count": 3
        }
      ]
    },
    {
      "cell_type": "code",
      "metadata": {
        "id": "iF3rOAQc8Wmy",
        "colab_type": "code",
        "outputId": "07309341-b03a-495f-bd0f-b187723dbf81",
        "colab": {
          "base_uri": "https://localhost:8080/",
          "height": 204
        }
      },
      "source": [
        "# get oecd data & import it as a dataframe\n",
        "oecd = pd.read_csv(oecd_data_url, thousands=',')[['Country', 'Indicator', 'Measure', 'Inequality', 'Unit', 'PowerCode', 'Value']]\n",
        "oecd.head()"
      ],
      "execution_count": 0,
      "outputs": [
        {
          "output_type": "execute_result",
          "data": {
            "text/html": [
              "<div>\n",
              "<style scoped>\n",
              "    .dataframe tbody tr th:only-of-type {\n",
              "        vertical-align: middle;\n",
              "    }\n",
              "\n",
              "    .dataframe tbody tr th {\n",
              "        vertical-align: top;\n",
              "    }\n",
              "\n",
              "    .dataframe thead th {\n",
              "        text-align: right;\n",
              "    }\n",
              "</style>\n",
              "<table border=\"1\" class=\"dataframe\">\n",
              "  <thead>\n",
              "    <tr style=\"text-align: right;\">\n",
              "      <th></th>\n",
              "      <th>Country</th>\n",
              "      <th>Indicator</th>\n",
              "      <th>Measure</th>\n",
              "      <th>Inequality</th>\n",
              "      <th>Unit</th>\n",
              "      <th>PowerCode</th>\n",
              "      <th>Value</th>\n",
              "    </tr>\n",
              "  </thead>\n",
              "  <tbody>\n",
              "    <tr>\n",
              "      <th>0</th>\n",
              "      <td>Australia</td>\n",
              "      <td>Labour market insecurity</td>\n",
              "      <td>Value</td>\n",
              "      <td>Total</td>\n",
              "      <td>Percentage</td>\n",
              "      <td>Units</td>\n",
              "      <td>5.4</td>\n",
              "    </tr>\n",
              "    <tr>\n",
              "      <th>1</th>\n",
              "      <td>Austria</td>\n",
              "      <td>Labour market insecurity</td>\n",
              "      <td>Value</td>\n",
              "      <td>Total</td>\n",
              "      <td>Percentage</td>\n",
              "      <td>Units</td>\n",
              "      <td>3.5</td>\n",
              "    </tr>\n",
              "    <tr>\n",
              "      <th>2</th>\n",
              "      <td>Belgium</td>\n",
              "      <td>Labour market insecurity</td>\n",
              "      <td>Value</td>\n",
              "      <td>Total</td>\n",
              "      <td>Percentage</td>\n",
              "      <td>Units</td>\n",
              "      <td>3.7</td>\n",
              "    </tr>\n",
              "    <tr>\n",
              "      <th>3</th>\n",
              "      <td>Canada</td>\n",
              "      <td>Labour market insecurity</td>\n",
              "      <td>Value</td>\n",
              "      <td>Total</td>\n",
              "      <td>Percentage</td>\n",
              "      <td>Units</td>\n",
              "      <td>6.0</td>\n",
              "    </tr>\n",
              "    <tr>\n",
              "      <th>4</th>\n",
              "      <td>Czech Republic</td>\n",
              "      <td>Labour market insecurity</td>\n",
              "      <td>Value</td>\n",
              "      <td>Total</td>\n",
              "      <td>Percentage</td>\n",
              "      <td>Units</td>\n",
              "      <td>3.1</td>\n",
              "    </tr>\n",
              "  </tbody>\n",
              "</table>\n",
              "</div>"
            ],
            "text/plain": [
              "          Country                 Indicator  ... PowerCode Value\n",
              "0       Australia  Labour market insecurity  ...     Units   5.4\n",
              "1         Austria  Labour market insecurity  ...     Units   3.5\n",
              "2         Belgium  Labour market insecurity  ...     Units   3.7\n",
              "3          Canada  Labour market insecurity  ...     Units   6.0\n",
              "4  Czech Republic  Labour market insecurity  ...     Units   3.1\n",
              "\n",
              "[5 rows x 7 columns]"
            ]
          },
          "metadata": {
            "tags": []
          },
          "execution_count": 4
        }
      ]
    },
    {
      "cell_type": "code",
      "metadata": {
        "id": "FmXptGRp95lT",
        "colab_type": "code",
        "outputId": "162d7c8e-8690-4ee2-f4bf-e2cd1f544331",
        "colab": {
          "base_uri": "https://localhost:8080/",
          "height": 204
        }
      },
      "source": [
        "# Get countries + Life satisfaction\n",
        "oecd = oecd[['Country', 'Value']][oecd['Indicator'] == 'Life satisfaction']\n",
        "oecd = oecd.rename(columns={'Value': 'Life satisfaction'})\n",
        "oecd.head()"
      ],
      "execution_count": 0,
      "outputs": [
        {
          "output_type": "execute_result",
          "data": {
            "text/html": [
              "<div>\n",
              "<style scoped>\n",
              "    .dataframe tbody tr th:only-of-type {\n",
              "        vertical-align: middle;\n",
              "    }\n",
              "\n",
              "    .dataframe tbody tr th {\n",
              "        vertical-align: top;\n",
              "    }\n",
              "\n",
              "    .dataframe thead th {\n",
              "        text-align: right;\n",
              "    }\n",
              "</style>\n",
              "<table border=\"1\" class=\"dataframe\">\n",
              "  <thead>\n",
              "    <tr style=\"text-align: right;\">\n",
              "      <th></th>\n",
              "      <th>Country</th>\n",
              "      <th>Life satisfaction</th>\n",
              "    </tr>\n",
              "  </thead>\n",
              "  <tbody>\n",
              "    <tr>\n",
              "      <th>1812</th>\n",
              "      <td>Australia</td>\n",
              "      <td>7.3</td>\n",
              "    </tr>\n",
              "    <tr>\n",
              "      <th>1813</th>\n",
              "      <td>Austria</td>\n",
              "      <td>7.1</td>\n",
              "    </tr>\n",
              "    <tr>\n",
              "      <th>1814</th>\n",
              "      <td>Belgium</td>\n",
              "      <td>6.9</td>\n",
              "    </tr>\n",
              "    <tr>\n",
              "      <th>1815</th>\n",
              "      <td>Canada</td>\n",
              "      <td>7.4</td>\n",
              "    </tr>\n",
              "    <tr>\n",
              "      <th>1816</th>\n",
              "      <td>Czech Republic</td>\n",
              "      <td>6.7</td>\n",
              "    </tr>\n",
              "  </tbody>\n",
              "</table>\n",
              "</div>"
            ],
            "text/plain": [
              "             Country  Life satisfaction\n",
              "1812       Australia                7.3\n",
              "1813         Austria                7.1\n",
              "1814         Belgium                6.9\n",
              "1815          Canada                7.4\n",
              "1816  Czech Republic                6.7"
            ]
          },
          "metadata": {
            "tags": []
          },
          "execution_count": 5
        }
      ]
    },
    {
      "cell_type": "code",
      "metadata": {
        "id": "FFtLj-AJ-ZNz",
        "colab_type": "code",
        "outputId": "719efc74-844b-49eb-d177-39fe603ebcd3",
        "colab": {
          "base_uri": "https://localhost:8080/",
          "height": 204
        }
      },
      "source": [
        "# Get countries + GDP\n",
        "gdp = gdp[['Country', '2015']]\n",
        "gdp = gdp.rename(columns={'2015': 'GDP per capita (USD)'})\n",
        "# filter to get a similar dataframe to the book's\n",
        "gdp = gdp[gdp['GDP per capita (USD)'] <= 60000]\n",
        "gdp.head()"
      ],
      "execution_count": 0,
      "outputs": [
        {
          "output_type": "execute_result",
          "data": {
            "text/html": [
              "<div>\n",
              "<style scoped>\n",
              "    .dataframe tbody tr th:only-of-type {\n",
              "        vertical-align: middle;\n",
              "    }\n",
              "\n",
              "    .dataframe tbody tr th {\n",
              "        vertical-align: top;\n",
              "    }\n",
              "\n",
              "    .dataframe thead th {\n",
              "        text-align: right;\n",
              "    }\n",
              "</style>\n",
              "<table border=\"1\" class=\"dataframe\">\n",
              "  <thead>\n",
              "    <tr style=\"text-align: right;\">\n",
              "      <th></th>\n",
              "      <th>Country</th>\n",
              "      <th>GDP per capita (USD)</th>\n",
              "    </tr>\n",
              "  </thead>\n",
              "  <tbody>\n",
              "    <tr>\n",
              "      <th>0</th>\n",
              "      <td>Afghanistan</td>\n",
              "      <td>599.994</td>\n",
              "    </tr>\n",
              "    <tr>\n",
              "      <th>1</th>\n",
              "      <td>Albania</td>\n",
              "      <td>3995.383</td>\n",
              "    </tr>\n",
              "    <tr>\n",
              "      <th>2</th>\n",
              "      <td>Algeria</td>\n",
              "      <td>4318.135</td>\n",
              "    </tr>\n",
              "    <tr>\n",
              "      <th>3</th>\n",
              "      <td>Angola</td>\n",
              "      <td>4100.315</td>\n",
              "    </tr>\n",
              "    <tr>\n",
              "      <th>4</th>\n",
              "      <td>Antigua and Barbuda</td>\n",
              "      <td>14414.302</td>\n",
              "    </tr>\n",
              "  </tbody>\n",
              "</table>\n",
              "</div>"
            ],
            "text/plain": [
              "               Country  GDP per capita (USD)\n",
              "0          Afghanistan               599.994\n",
              "1              Albania              3995.383\n",
              "2              Algeria              4318.135\n",
              "3               Angola              4100.315\n",
              "4  Antigua and Barbuda             14414.302"
            ]
          },
          "metadata": {
            "tags": []
          },
          "execution_count": 6
        }
      ]
    },
    {
      "cell_type": "code",
      "metadata": {
        "id": "UBfVj1My-kez",
        "colab_type": "code",
        "outputId": "1e595c9a-4501-4d68-958a-d781ee5b80fd",
        "colab": {
          "base_uri": "https://localhost:8080/",
          "height": 204
        }
      },
      "source": [
        "\n",
        "# Join GDP & Life satisfaction tables + Group by country as the unique column and average-aggregate GDP & Life satisfaction\n",
        "country_stats = pd.merge(gdp, oecd, on='Country').groupby(['Country']).mean().reset_index()\n",
        "country_stats.head()"
      ],
      "execution_count": 0,
      "outputs": [
        {
          "output_type": "execute_result",
          "data": {
            "text/html": [
              "<div>\n",
              "<style scoped>\n",
              "    .dataframe tbody tr th:only-of-type {\n",
              "        vertical-align: middle;\n",
              "    }\n",
              "\n",
              "    .dataframe tbody tr th {\n",
              "        vertical-align: top;\n",
              "    }\n",
              "\n",
              "    .dataframe thead th {\n",
              "        text-align: right;\n",
              "    }\n",
              "</style>\n",
              "<table border=\"1\" class=\"dataframe\">\n",
              "  <thead>\n",
              "    <tr style=\"text-align: right;\">\n",
              "      <th></th>\n",
              "      <th>Country</th>\n",
              "      <th>GDP per capita (USD)</th>\n",
              "      <th>Life satisfaction</th>\n",
              "    </tr>\n",
              "  </thead>\n",
              "  <tbody>\n",
              "    <tr>\n",
              "      <th>0</th>\n",
              "      <td>Australia</td>\n",
              "      <td>50961.865</td>\n",
              "      <td>7.350</td>\n",
              "    </tr>\n",
              "    <tr>\n",
              "      <th>1</th>\n",
              "      <td>Austria</td>\n",
              "      <td>43724.031</td>\n",
              "      <td>7.225</td>\n",
              "    </tr>\n",
              "    <tr>\n",
              "      <th>2</th>\n",
              "      <td>Belgium</td>\n",
              "      <td>40106.632</td>\n",
              "      <td>7.000</td>\n",
              "    </tr>\n",
              "    <tr>\n",
              "      <th>3</th>\n",
              "      <td>Brazil</td>\n",
              "      <td>8669.998</td>\n",
              "      <td>6.400</td>\n",
              "    </tr>\n",
              "    <tr>\n",
              "      <th>4</th>\n",
              "      <td>Canada</td>\n",
              "      <td>43331.961</td>\n",
              "      <td>7.425</td>\n",
              "    </tr>\n",
              "  </tbody>\n",
              "</table>\n",
              "</div>"
            ],
            "text/plain": [
              "     Country  GDP per capita (USD)  Life satisfaction\n",
              "0  Australia             50961.865              7.350\n",
              "1    Austria             43724.031              7.225\n",
              "2    Belgium             40106.632              7.000\n",
              "3     Brazil              8669.998              6.400\n",
              "4     Canada             43331.961              7.425"
            ]
          },
          "metadata": {
            "tags": []
          },
          "execution_count": 7
        }
      ]
    },
    {
      "cell_type": "code",
      "metadata": {
        "id": "kxvgAw2T-6Xz",
        "colab_type": "code",
        "outputId": "c538f1c0-b7c9-4f33-ea85-eb2cdf706e59",
        "colab": {
          "base_uri": "https://localhost:8080/",
          "height": 34
        }
      },
      "source": [
        "# get GDP for the x-axis and Life Satisfaction for the y-axis\n",
        "X = country_stats['GDP per capita (USD)'].values.reshape(-1, 1)\n",
        "y = country_stats['Life satisfaction'].values.reshape(-1, 1)\n",
        "X.shape, y.shape"
      ],
      "execution_count": 0,
      "outputs": [
        {
          "output_type": "execute_result",
          "data": {
            "text/plain": [
              "((37, 1), (37, 1))"
            ]
          },
          "metadata": {
            "tags": []
          },
          "execution_count": 8
        }
      ]
    },
    {
      "cell_type": "code",
      "metadata": {
        "id": "jpPEwzUw_ChB",
        "colab_type": "code",
        "outputId": "23aca686-5ed0-442d-abca-a5c8d23a6218",
        "colab": {
          "base_uri": "https://localhost:8080/",
          "height": 283
        }
      },
      "source": [
        "# Visualize Data\n",
        "country_stats.plot(kind='scatter', x='GDP per capita (USD)', y='Life satisfaction', xlim=(0, 60000), ylim=(0,10))\n",
        "plt.show()"
      ],
      "execution_count": 0,
      "outputs": [
        {
          "output_type": "display_data",
          "data": {
            "image/png": "[encoded data removed]",
            "text/plain": [
              "<Figure size 432x288 with 1 Axes>"
            ]
          },
          "metadata": {
            "tags": []
          }
        }
      ]
    },
    {
      "cell_type": "code",
      "metadata": {
        "id": "r0pmnEC8_IgA",
        "colab_type": "code",
        "colab": {}
      },
      "source": [
        "# Select a Linear Model\n",
        "model = sklearn.linear_model.LinearRegression()"
      ],
      "execution_count": 0,
      "outputs": []
    },
    {
      "cell_type": "code",
      "metadata": {
        "id": "wvL9WDMN_OOi",
        "colab_type": "code",
        "outputId": "ac398290-4d0a-4d6b-bcbb-877505582b58",
        "colab": {
          "base_uri": "https://localhost:8080/",
          "height": 34
        }
      },
      "source": [
        "# Train the Model\n",
        "model.fit(X, y,)"
      ],
      "execution_count": 0,
      "outputs": [
        {
          "output_type": "execute_result",
          "data": {
            "text/plain": [
              "LinearRegression(copy_X=True, fit_intercept=True, n_jobs=None, normalize=False)"
            ]
          },
          "metadata": {
            "tags": []
          },
          "execution_count": 11
        }
      ]
    },
    {
      "cell_type": "code",
      "metadata": {
        "id": "4uwZhn0s_RzQ",
        "colab_type": "code",
        "outputId": "6365e2b5-0f28-4bca-b052-81493b50836c",
        "colab": {
          "base_uri": "https://localhost:8080/",
          "height": 34
        }
      },
      "source": [
        "# Make a prediction for Cyprus\n",
        "X_new = [[22587]]  # Cyprus GDP per capita\n",
        "print(model.predict(X_new))"
      ],
      "execution_count": 0,
      "outputs": [
        {
          "output_type": "stream",
          "text": [
            "[[6.2910907]]\n"
          ],
          "name": "stdout"
        }
      ]
    },
    {
      "cell_type": "code",
      "metadata": {
        "id": "qAlJsXfg_WoA",
        "colab_type": "code",
        "colab": {}
      },
      "source": [
        "# let's visualize our model, because it's a linear one, we can plot it using two points\n",
        "X = [[10000], [50000]]\n",
        "y_hat = model.predict(X)"
      ],
      "execution_count": 0,
      "outputs": []
    },
    {
      "cell_type": "code",
      "metadata": {
        "id": "d6r-ecxx_fZX",
        "colab_type": "code",
        "outputId": "8d9d91e1-312b-469c-aa63-f1d895428d72",
        "colab": {
          "base_uri": "https://localhost:8080/",
          "height": 283
        }
      },
      "source": [
        "# Visualize Data\n",
        "country_stats.plot(kind='scatter', x='GDP per capita (USD)', y='Life satisfaction', xlim=(0, 60000), ylim=(0,10))\n",
        "plt.plot(X, y_hat, c='red')\n",
        "plt.show()"
      ],
      "execution_count": 0,
      "outputs": [
        {
          "output_type": "display_data",
          "data": {
            "image/png": "[encoded data removed]",
            "text/plain": [
              "<Figure size 432x288 with 1 Axes>"
            ]
          },
          "metadata": {
            "tags": []
          }
        }
      ]
    },
    {
      "cell_type": "markdown",
      "metadata": {
        "id": "ChUa1reM_qzj",
        "colab_type": "text"
      },
      "source": [
        "In summary, a machine learning project looks like this:\n",
        "\n",
        "Studying the data — Exploratory data analysis\n",
        "\n",
        "Model Selection\n",
        "\n",
        "Model Training\n",
        "\n",
        "Inference\n"
      ]
    },
    {
      "cell_type": "markdown",
      "metadata": {
        "id": "thQxsdEsAn8W",
        "colab_type": "text"
      },
      "source": [
        "**Main Challenges of Machine Learning**\n",
        "\n",
        "The two things that can go wrong are: Bad learning algorithm, Bad data.\n",
        "\n",
        "Insufficient quantity of training data:\n",
        "\n",
        "> Even for very simple ml algorihtms, it takes thousands of examples for it to recognize Cat/Dog.\n",
        "A famous paper showed the many algorithms, ranging from very simple ones to complex, perform relatively the same when given enough data.\n",
        "The authors argued that we should reconsider where companies should invest their money, in algorithms development or in data corpuses engineering.\n",
        "\n",
        "Non-representative training data:\n",
        "> In order to generalize well, It's important that your training data be representative of the data that you want to use the system forIf the sample is too small, you will have sampling noise.\n",
        "But even large samples can be non-representative if the sampling method is flawed, this is called sampling bias.\n",
        "Example of sampling bias — Non-response bias.\n",
        "\n",
        "\n",
        "\n",
        "\n",
        "\n",
        "\n",
        "\n",
        "\n",
        "\n",
        "\n",
        "\n",
        "\n"
      ]
    },
    {
      "cell_type": "markdown",
      "metadata": {
        "id": "0n8gKbe8CGnm",
        "colab_type": "text"
      },
      "source": [
        "Poor quality data\n",
        "\n",
        "> Obviously, if your training data is full of outliers, errors, and noise, it will make it harder for the algorithm to detect the underlying patterns, resulting in a bad model.\n",
        "It's often well worth the time to sit down and properly clean and investigate your data before doing any modeling.\n",
        "\n",
        "Example of data cleaning:\n",
        "\n",
        "\n",
        "*   If some instances (data points/rows) are clearly outliers, it may be logical to just discard them or manually fix them.\n",
        "*   if some instances are missing a few features, you have multiple options: Discard the instances, fill them with median, train two models (one w/ features and one w/o it).\n",
        "\n",
        "Irrelevant features\n",
        "\n",
        "*   You system will only learn if your data contains many relevant features and not so many irrelevant ones.\n",
        "*   A critical part of the success of a machine learning project is what's called feature engineering or coming up with features that would produce a quality model, it contains two steps:\n",
        "\n",
        "\n",
        "*   Feature selection: selecting the most useful features to train on\n",
        "*   Feature Extraction: adding new features based of the existing ones.\n",
        "*   Creating new features by gathering new data.\n",
        "\n",
        "\n",
        "\n",
        "\n",
        "\n",
        "\n",
        "\n",
        "\n",
        "\n",
        "\n",
        "\n"
      ]
    },
    {
      "cell_type": "markdown",
      "metadata": {
        "id": "yja9Y7ZEG0ax",
        "colab_type": "text"
      },
      "source": [
        "Overfitting the training data:\n",
        "\n",
        "\n",
        "*   Say you visited a foreign country and a taxi driver ripped you off, that is overfitting, we do it all the time and we adjust our beliefs as we get more data.\n",
        "*   Machines, unfortunately, do it as well.\n",
        "*   Overfitting means the predictive system performs well on the training data but fails to generalize.\n",
        "*   Complex models such as deep neural networks tend to memorize training data noise or even the data sample itself if its small enough.\n",
        "\n",
        "Possible solutions:\n",
        "*   Select a model with fewer weights/parameters to constrain its predictive power so that it can use only the strongest present patterns\n",
        "*   Gather more training data\n",
        "*   Reduce the noise in the training data, fix errors and eliminate outliers.\n",
        "\n",
        "Constraining a model to make it simpler and fighting overfitting is called regularization.\n",
        "In the case a a simple linear model, it has two degrees of freedom (2 parameters)\n",
        "\n",
        "If we let the algorithm change one parameter's values freely but have a set interval around parameter 2, it will have a between 1 and 2 degree of freedom.\n",
        "\n",
        "You want a good balance between keeping the model as simple as possible while giving the model the ability to capture out of training data patterns.\n",
        "\n",
        "Regularization can be controlled using hyperparameters, hyperparameters describe how the model should learn, not the parameters of the model itself.\n",
        "\n",
        "\n",
        "\n",
        "\n",
        "\n",
        "\n",
        "\n",
        "\n",
        "\n",
        "\n",
        "\n"
      ]
    },
    {
      "cell_type": "markdown",
      "metadata": {
        "id": "LqZwKrY8KwXq",
        "colab_type": "text"
      },
      "source": [
        "Underfitting the Training Data:\n",
        "\n",
        "Underfitting is the opposite of overfitting\n",
        "\n",
        "It occurs when your model is too simple to capture the underlying structure of the training data\n",
        "\n",
        "Here are solutions to the problem:\n",
        "\n",
        "Select a more powerful model, with more parameters\n",
        "\n",
        "Feed better features to the learning algorithm (feature engineering)\n",
        "\n",
        "Reduce the constraints on the model (reduce regularization)\n"
      ]
    },
    {
      "cell_type": "markdown",
      "metadata": {
        "id": "soQCDdG1eyIh",
        "colab_type": "text"
      },
      "source": [
        "**Testing & Validating**\n",
        "\n",
        "You evaluate your model by splitting your data into two sets: training and testing data sets.\n",
        "\n",
        "You only care about out-of-training error, or generalization error, as it is representative of the model's performance in a production environment.\n",
        "\n",
        "If your training error is low but your testing error is high, this means that you model is overfitting.\n",
        "\n",
        "It's common to use 80% of the data for training and the remaining 20% for testing.\n",
        "But it's dependent on the size of the original data set, the bigger it is, the less percent you can take as a testing set.\n",
        "\n",
        "Hyper-parameter tuning & model selection:\n",
        "\n",
        "If you fine-tune regularization parameters on the test set, you are sort of overfitting to it, so you need another data set for Hyper-parameter tuning, called validation set.\n",
        "\n",
        "The validation set should be set aside from the training set.\n",
        "After the holdout validation process (fine-tuning the hyper-parameters) you traing the model on the full training set (with validation) & evaluate on the test set.\n",
        "\n",
        "A solution to setting aside a large validation set is to perform repeated cross-validation.\n",
        "\n",
        "It has a drawback though, you have to train the model N-repetitions."
      ]
    },
    {
      "cell_type": "markdown",
      "metadata": {
        "id": "7R4O24YLiaZ_",
        "colab_type": "text"
      },
      "source": [
        "Data Mismatch:\n",
        "\n",
        "The validation set & the test set must be as representative as possible for the data you will use in production.\n",
        "\n",
        "One solution to this when you have a broad range of data is to manually select cases that will show up in production as (validation/test) sets.\n",
        "\n",
        "One Problem is that if the algorithm is performing poorly on the validation set you won't know if the cause is overfitting or if the training set isn't good for the task at hand.\n",
        "\n",
        "A solution to this is to introduce another validation set, called 'train-dev' set.\n",
        "\n",
        "After training you will validate the model on both train-dev & validation sets.\n",
        "If evaluation is good on train-dev & bad on validation, this means that the data is not good for the task at hand.\n",
        "\n",
        "If evaluation is bad on train-dev & bad on validation, this means overfitting or the algorithm/overall data is not good.\n",
        "\n",
        "No Free Lunch Theorem\n",
        "\n",
        "A model is a simplified version of the observations.\n",
        "\n",
        "The simplifications are meant to discard noise and capture generalizable useful patterns that will be captured in production.\n",
        "\n",
        "To decide what information to discard and what to keep, you must make assumptions.\n",
        "\n",
        "For example, a linear model assumes that the relation between the input & output is fundamentally linear.\n",
        "\n",
        "& the distance between the model line and the observations is essentially noise.\n",
        "\n",
        "If you make no assumptions about the data, than there is no need to prefer one model over another"
      ]
    },
    {
      "cell_type": "markdown",
      "metadata": {
        "id": "5IbUj_amjZbe",
        "colab_type": "text"
      },
      "source": [
        "**Exercices**\n",
        "\n",
        "**1. How would you define Machine Learning?**\n",
        "\n",
        "Machine Learning is the ability to learn from data without being explicitly programmed."
      ]
    },
    {
      "cell_type": "markdown",
      "metadata": {
        "id": "G9j0v7YVkHWH",
        "colab_type": "text"
      },
      "source": [
        "**2. Can you name four types of problems where is shines?**\n",
        "\n",
        "Image classification, Voice Recognition, Semantic Segmentation, Sentiment Analysis."
      ]
    },
    {
      "cell_type": "markdown",
      "metadata": {
        "id": "dA6J9sTNkWRI",
        "colab_type": "text"
      },
      "source": [
        "**3. What is a labeled training set?**\n",
        "\n",
        "In the context of supervised learning, a labeled training set is a data set with available targets, what you want to predict is known before training.\n",
        "\n",
        "Example: a training set composed of images of cats or dogs and the corresponding label (cat/dog) for each of the images.\n"
      ]
    },
    {
      "cell_type": "markdown",
      "metadata": {
        "id": "XmD_vu7Rk1hV",
        "colab_type": "text"
      },
      "source": [
        "**4. What are the two most common supervised tasks?**\n",
        "\n",
        "Classification (where the target is categorical in nature) & Regression (where the labels are continuous in nature)."
      ]
    },
    {
      "cell_type": "markdown",
      "metadata": {
        "id": "E2-g3WNGlG2i",
        "colab_type": "text"
      },
      "source": [
        "**5. Can you name four common unsupervised tasks?**\n",
        "\n",
        "Clustering, Anomaly detection, Visualization, dimensionality reduction."
      ]
    },
    {
      "cell_type": "markdown",
      "metadata": {
        "id": "iJ173PD5lV0C",
        "colab_type": "text"
      },
      "source": [
        "**6. What type of machine learning algorithm would you use to allow a robot to walk in many paths in an unknown terrain?**\n",
        "\n",
        "Reinforcement learning."
      ]
    },
    {
      "cell_type": "markdown",
      "metadata": {
        "id": "NZgbHIJ4nuZ7",
        "colab_type": "text"
      },
      "source": [
        "**7. What type of algorithm would you use to segment your customers into multiple groups?**\n",
        "\n",
        "An unsupervised clustering algorithm like: K-means, DBSCAN."
      ]
    },
    {
      "cell_type": "markdown",
      "metadata": {
        "id": "4nGw0KSDoXAD",
        "colab_type": "text"
      },
      "source": [
        "**8. Would you frame the problem of spam detection as a supervised learning or an unsupervised learning problem?**\n",
        "\n",
        "It a supervised learning problem."
      ]
    },
    {
      "cell_type": "markdown",
      "metadata": {
        "id": "tkma6iDepvS6",
        "colab_type": "text"
      },
      "source": [
        "**9. What is an online learning system?**\n",
        "\n",
        "An online learning system continues to learn from new data after being deployed in production, in contrast to a batch learning model which would stop learning after the initial training process."
      ]
    },
    {
      "cell_type": "markdown",
      "metadata": {
        "id": "RpvXvA4_rkIr",
        "colab_type": "text"
      },
      "source": [
        "**10. What is out-of-core learning?**\n",
        "\n",
        "We use out-of-core learning algorithms when the training data can't fit ina computer's RAM."
      ]
    },
    {
      "cell_type": "markdown",
      "metadata": {
        "id": "oA63i1xCrqhC",
        "colab_type": "text"
      },
      "source": [
        "**11. What type of learning algorithm relies on a similarity measure to make predictions?**\n",
        "\n",
        "Instance-based models, an example of that is K-nearest neighbors."
      ]
    },
    {
      "cell_type": "markdown",
      "metadata": {
        "id": "vtFp5W1isB7z",
        "colab_type": "text"
      },
      "source": [
        "**12. What is the difference between a model's parameters and a learning algorithm's hyper-parameter?**\n",
        "\n",
        "A model's parameters are the knobs that, collectively, store the learned knowledge of the model, also called weights, they are continuously changed during training to minimize a cost function. Examples are a & b in a y = ax + b linear model.\n",
        "\n",
        "A learning algorithm's hyper-parameter describes how the algorithm should learn and control the predictive power of the model, example is the learning rate, number of layers in a NN, regularization, batch size, they are set before training and aren't changed during training."
      ]
    },
    {
      "cell_type": "markdown",
      "metadata": {
        "id": "WroeN7S3uvVm",
        "colab_type": "text"
      },
      "source": [
        "**13. What do model-based algorithms search for?**\n",
        "\n",
        "A decision boundary."
      ]
    },
    {
      "cell_type": "markdown",
      "metadata": {
        "id": "z26rmSmBu7i-",
        "colab_type": "text"
      },
      "source": [
        "**14. What is the most common strategy they use to succeed?**\n",
        "\n",
        "They minimize a cost function that describe the distance between the predictions outputted by the model and the real target values."
      ]
    },
    {
      "cell_type": "markdown",
      "metadata": {
        "id": "YxFLbplBwBK2",
        "colab_type": "text"
      },
      "source": [
        "**14. How do they make predictions?**\n",
        "\n",
        "They start with a set of initial parameters, make predictions based on the input & their parameters, then adjust their parameters to minimize cost."
      ]
    },
    {
      "cell_type": "markdown",
      "metadata": {
        "id": "VCKOBuQEwcRT",
        "colab_type": "text"
      },
      "source": [
        "**15. Can you name 4 of the main challenges in machine learning?**\n",
        "\n",
        "Algorithmic challenges — Model Overfitting, Model Underfitting.\n",
        "\n",
        "Data challenges — Data mismatch, Noisy data.\n"
      ]
    },
    {
      "cell_type": "markdown",
      "metadata": {
        "id": "H_MjcKYox7n3",
        "colab_type": "text"
      },
      "source": [
        "**16. If your model performs great on the training data but fails on the test data, What is happening?**\n",
        "\n",
        "Overfitting, the model starts memorizing noise present on the training data to further minimize the cost function."
      ]
    },
    {
      "cell_type": "markdown",
      "metadata": {
        "id": "4jMhXl0fygKQ",
        "colab_type": "text"
      },
      "source": [
        "**17. Can you name 3 possible solutions?**\n",
        "\n",
        "Regularization, Adding more data, Simplifying the model."
      ]
    },
    {
      "cell_type": "markdown",
      "metadata": {
        "id": "-DsKSlcczr51",
        "colab_type": "text"
      },
      "source": [
        "**18. What is a test set? & Why you would want to use it?**\n",
        "\n",
        "The whole data set is usually split into training data (~80%) and test data (~20%), we use test data to evaluate the generalizability of the model beyond the training data set."
      ]
    },
    {
      "cell_type": "markdown",
      "metadata": {
        "id": "pd1xXTeQz3Bk",
        "colab_type": "text"
      },
      "source": [
        "**19. What is the purpose of a validation set?**\n",
        "\n",
        "A validation set is used to fine-tune the models' hyper-parameters, what is called manual training, and leave the test set for the final evaluation."
      ]
    },
    {
      "cell_type": "markdown",
      "metadata": {
        "id": "xid3o3v23j62",
        "colab_type": "text"
      },
      "source": [
        "**20. What is the train-dev set?, When do you use it? & How do you use it?**\n",
        "\n",
        "the train-dev is a validation set that is taken from a broad training set after performing the train/validation/test split.\n",
        "\n",
        "We use it when we have a broad training data set (ex. images of all animals) but specific validation/test set (zoo animal pics taken with mobile phones) and we want to correctly interpret the model's evaluation.\n",
        "\n",
        "We train the model on the training data set, we evaluate on train-dev and validation, if model performs badly on both, we have an overfitting case, if the model performs good in train-dev and badly on validation we have a data mismatch we the learning doesn't generalize to our specific production data."
      ]
    },
    {
      "cell_type": "markdown",
      "metadata": {
        "id": "xiFnwJ094Tko",
        "colab_type": "text"
      },
      "source": [
        "**21. What can go wrong if you tune hyper-parameters using the test set?**\n",
        "\n",
        "I can accidentaly overfit the test set as well by manually finding hyper-parameters that perform well on the test set but doesn't generalize to production data."
      ]
    },
    {
      "cell_type": "code",
      "metadata": {
        "id": "JWm8Q3k04Swy",
        "colab_type": "code",
        "colab": {}
      },
      "source": [
        ""
      ],
      "execution_count": 0,
      "outputs": []
    },
    {
      "cell_type": "code",
      "metadata": {
        "id": "l8jmTBdspsWU",
        "colab_type": "code",
        "colab": {}
      },
      "source": [
        ""
      ],
      "execution_count": 0,
      "outputs": []
    },
    {
      "cell_type": "code",
      "metadata": {
        "id": "YCKMHuaJDn-0",
        "colab_type": "code",
        "colab": {}
      },
      "source": [
        ""
      ],
      "execution_count": 0,
      "outputs": []
    },
    {
      "cell_type": "code",
      "metadata": {
        "id": "-demXUXr_i6v",
        "colab_type": "code",
        "colab": {}
      },
      "source": [
        ""
      ],
      "execution_count": 0,
      "outputs": []
    }
  ]
}